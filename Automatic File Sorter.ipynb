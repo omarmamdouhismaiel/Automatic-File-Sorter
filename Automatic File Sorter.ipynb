{
 "cells": [
  {
   "cell_type": "markdown",
   "id": "fde80afc",
   "metadata": {},
   "source": [
    "# Automatic File Sorter in File Explorer\n",
    "\n",
    "Organize files in a folder into categories, taking its path from the user. "
   ]
  },
  {
   "cell_type": "markdown",
   "id": "1b7a3fd9",
   "metadata": {},
   "source": [
    "#### 1. Taking a path to the folder which the user want to sort its files."
   ]
  },
  {
   "cell_type": "code",
   "execution_count": 1,
   "id": "9839c067",
   "metadata": {},
   "outputs": [],
   "source": [
    "# Import needed libraries\n",
    "import os, shutil"
   ]
  },
  {
   "cell_type": "code",
   "execution_count": 2,
   "id": "2b6108a1",
   "metadata": {},
   "outputs": [
    {
     "name": "stdout",
     "output_type": "stream",
     "text": [
      "Enter full path of folder you want to sort: D:\\StartUp\n"
     ]
    }
   ],
   "source": [
    "# Get folder path from user\n",
    "path = input(\"Enter full path of folder you want to sort: \")\n",
    "\n",
    "# If path not found, print alert for user\n",
    "if not os.path.exists(path):\n",
    "    print(\"You entered a wrong path! Try again!\")"
   ]
  },
  {
   "cell_type": "code",
   "execution_count": 3,
   "id": "ef2a36a3",
   "metadata": {},
   "outputs": [
    {
     "data": {
      "text/plain": [
       "['1.mp4',\n",
       " '3.png',\n",
       " 'elements.html',\n",
       " 'GEMMEC',\n",
       " 'Hackthon No.1  -20250119T185917Z-001.zip',\n",
       " 'JLT Information System.docx',\n",
       " 'Oracle Database Design.sql',\n",
       " 'Sales dataset - lab1.xlsx']"
      ]
     },
     "execution_count": 3,
     "metadata": {},
     "output_type": "execute_result"
    }
   ],
   "source": [
    "# Get folder content\n",
    "file_names = os.listdir(path)\n",
    "file_names"
   ]
  },
  {
   "cell_type": "markdown",
   "id": "234595be",
   "metadata": {},
   "source": [
    "#### 2. Creating folders for those categories {Text, Spreadsheet, Media, Image, Archive, Web, Database}."
   ]
  },
  {
   "cell_type": "code",
   "execution_count": 4,
   "id": "b528b913",
   "metadata": {},
   "outputs": [],
   "source": [
    "# Dictionary of files categories and their extensions\n",
    "folder_dict = {'Text Files': ['.txt', '.doc', '.docx', '.pdf', '.rtf', '.odt'],\n",
    "               'Spreadsheet Files': ['.xls', '.xlsx', '.csv', '.ods'],\n",
    "               'Media Files': ['.mp3', '.wav', '.wma', '.mp4', '.avi', '.wmv', '.mov', '.mkv'],\n",
    "               'Image Files': ['.jpg', '.jpeg', '.png', '.gif', '.bmp', '.tiff', '.ico'],\n",
    "               'Archive Files': ['.zip', '.rar', '.7z', '.tar', '.gz'],\n",
    "               'Web Files': ['.html', '.htm', '.css', '.js', '.xml', '.json'],\n",
    "               'Database Files': ['.db', '.mdb', '.accdb', '.sql']}\n",
    "\n",
    "# Create those categories folders in our folder, if not exist\n",
    "for folder_name in folder_dict.keys():\n",
    "    if not os.path.exists(path + \"\\\\\" + folder_name):\n",
    "        os.makedirs(path + \"\\\\\" + folder_name)"
   ]
  },
  {
   "cell_type": "markdown",
   "id": "e7453382",
   "metadata": {},
   "source": [
    "#### 3. Moving each file to its category folder."
   ]
  },
  {
   "cell_type": "code",
   "execution_count": 5,
   "id": "823f8382",
   "metadata": {},
   "outputs": [
    {
     "name": "stdout",
     "output_type": "stream",
     "text": [
      "'1.mp4' file moved to 'Media Files' folder\n",
      "'3.png' file moved to 'Image Files' folder\n",
      "'elements.html' file moved to 'Web Files' folder\n",
      "'Hackthon No.1  -20250119T185917Z-001.zip' file moved to 'Archive Files' folder\n",
      "'JLT Information System.docx' file moved to 'Text Files' folder\n",
      "'Oracle Database Design.sql' file moved to 'Database Files' folder\n",
      "'Sales dataset - lab1.xlsx' file moved to 'Spreadsheet Files' folder\n",
      "\n",
      "Files sorted successfully.\n"
     ]
    }
   ],
   "source": [
    "# Move every file to its category folder\n",
    "found = False # flag variable for break the 2 inner loops when file moved\n",
    "for file in file_names:\n",
    "    for folder_name, exts in folder_dict.items():\n",
    "        for ext in exts:\n",
    "            if ext in file:\n",
    "                shutil.move(path+'\\\\'+file, path+'\\\\'+folder_name+'\\\\'+file)\n",
    "                print(\"'\"+file+\"' file\", \"moved to\", \"'\"+ folder_name+\"' folder\") # print moved file and its new destination\n",
    "                found = True\n",
    "                break\n",
    "        if found:\n",
    "            found = False\n",
    "            break\n",
    "print(\"\\nFiles sorted successfully.\")"
   ]
  },
  {
   "cell_type": "markdown",
   "id": "327fd13b",
   "metadata": {},
   "source": [
    "## End!"
   ]
  }
 ],
 "metadata": {
  "kernelspec": {
   "display_name": "Python 3 (ipykernel)",
   "language": "python",
   "name": "python3"
  },
  "language_info": {
   "codemirror_mode": {
    "name": "ipython",
    "version": 3
   },
   "file_extension": ".py",
   "mimetype": "text/x-python",
   "name": "python",
   "nbconvert_exporter": "python",
   "pygments_lexer": "ipython3",
   "version": "3.9.7"
  }
 },
 "nbformat": 4,
 "nbformat_minor": 5
}
